{
 "cells": [
  {
   "cell_type": "markdown",
   "metadata": {},
   "source": [
    "Requirements\n",
    "\n",
    "* same function, same data, new behavior\n",
    "* functions can call other functions (and behave like subclass method dispatch)\n",
    "* easy for user to enter system from the outside\n",
    "* does not require defining concrete methods over a data decorator class\n"
   ]
  },
  {
   "cell_type": "markdown",
   "metadata": {},
   "source": [
    "## Single dispatch"
   ]
  },
  {
   "cell_type": "code",
   "execution_count": 1,
   "metadata": {},
   "outputs": [],
   "source": [
    "from sqlalchemy import sql\n",
    "from functools import singledispatch"
   ]
  },
  {
   "cell_type": "code",
   "execution_count": 2,
   "metadata": {},
   "outputs": [],
   "source": [
    "@singledispatch\n",
    "def mean(data):\n",
    "    raise NotImplementedError()\n",
    "    \n",
    "@mean.register(sql.ClauseElement)\n",
    "def _mean_sql_col(data):\n",
    "    return sql.func.MEAN(data)"
   ]
  },
  {
   "cell_type": "code",
   "execution_count": 3,
   "metadata": {},
   "outputs": [
    {
     "name": "stdout",
     "output_type": "stream",
     "text": [
      "MEAN(a)\n"
     ]
    }
   ],
   "source": [
    "print(\n",
    "    mean(sql.column('a'))\n",
    ")"
   ]
  },
  {
   "cell_type": "markdown",
   "metadata": {},
   "source": [
    "## Codata"
   ]
  },
  {
   "cell_type": "code",
   "execution_count": 4,
   "metadata": {},
   "outputs": [
    {
     "data": {
      "text/plain": [
       "<sqlalchemy.sql.functions.Function at 0x10c07fe80; AVG>"
      ]
     },
     "execution_count": 4,
     "metadata": {},
     "output_type": "execute_result"
    }
   ],
   "source": [
    "# problem is if we want this function to do different things\n",
    "# in certain situations\n",
    "def mean2(data):\n",
    "    return sql.func.AVG(data)\n",
    "\n",
    "mean2(sql.column('a'))"
   ]
  },
  {
   "cell_type": "code",
   "execution_count": 5,
   "metadata": {},
   "outputs": [],
   "source": [
    "# Note ClauseElement is the base of most sqlalchemy classes\n",
    "class PostgresMethods(sql.ClauseElement): pass\n",
    "\n",
    "class DataDecorator():\n",
    "    def __init__(self, data, eliminator_cls):\n",
    "        self.data = data\n",
    "        self.eliminator_cls = eliminator_cls\n",
    "    \n",
    "    def apply(self, dispatcher, args = (), kwargs = {}):\n",
    "        method = dispatcher.dispatch(self.eliminator_cls)\n",
    "        return method(self.data, *args, **kwargs)\n",
    "        \n",
    "    def wrap(self, res):\n",
    "        return self.__class__(res, self.eliminator_cls)\n",
    "    \n",
    "    def visit(self, dispatcher, args = (), kwargs = {}):\n",
    "        res = self.apply(dispatcher, args, kwargs)\n",
    "        return self.wrap(res)"
   ]
  },
  {
   "cell_type": "code",
   "execution_count": 6,
   "metadata": {},
   "outputs": [
    {
     "data": {
      "text/plain": [
       "<__main__.DataDecorator at 0x10b39bdd8>"
      ]
     },
     "execution_count": 6,
     "metadata": {},
     "output_type": "execute_result"
    }
   ],
   "source": [
    "dd = DataDecorator(sql.column('a'), PostgresMethods)\n",
    "\n",
    "dd.visit(mean)\n"
   ]
  },
  {
   "cell_type": "code",
   "execution_count": 7,
   "metadata": {},
   "outputs": [
    {
     "name": "stdout",
     "output_type": "stream",
     "text": [
      "AVG(AVG(a))\n"
     ]
    }
   ],
   "source": [
    "@mean.register(PostgresMethods)\n",
    "def _(data):\n",
    "    return sql.func.AVG(data)\n",
    "\n",
    "\n",
    "@mean.register(DataDecorator)\n",
    "def _(data):\n",
    "    return data.visit(mean)\n",
    "\n",
    "print(mean(mean(dd)).data)"
   ]
  },
  {
   "cell_type": "markdown",
   "metadata": {},
   "source": [
    "### dispatch on DataDecorator to use methods in methods"
   ]
  },
  {
   "cell_type": "code",
   "execution_count": 8,
   "metadata": {},
   "outputs": [
    {
     "name": "stdout",
     "output_type": "stream",
     "text": [
      "Calling mean\n",
      "a + AVG(a)\n"
     ]
    }
   ],
   "source": [
    "@singledispatch\n",
    "def new_func(x): raise NotImplementedError()\n",
    "    \n",
    "@new_func.register(DataDecorator)\n",
    "def _(x):\n",
    "    print(\"Calling mean\")\n",
    "    dd_avg = mean(x)\n",
    "    \n",
    "    return dd.wrap(x.data + dd_avg.data)\n",
    "\n",
    "print(new_func(dd).data)"
   ]
  }
 ],
 "metadata": {
  "kernelspec": {
   "display_name": "venv-siuba",
   "language": "python",
   "name": "venv-siuba"
  },
  "language_info": {
   "codemirror_mode": {
    "name": "ipython",
    "version": 3
   },
   "file_extension": ".py",
   "mimetype": "text/x-python",
   "name": "python",
   "nbconvert_exporter": "python",
   "pygments_lexer": "ipython3",
   "version": "3.6.9"
  }
 },
 "nbformat": 4,
 "nbformat_minor": 4
}
